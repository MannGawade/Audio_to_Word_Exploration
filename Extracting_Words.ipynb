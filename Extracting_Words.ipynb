{
 "cells": [
  {
   "cell_type": "code",
   "execution_count": 7,
   "metadata": {},
   "outputs": [
    {
     "name": "stderr",
     "output_type": "stream",
     "text": [
      "c:\\Users\\16577\\anaconda3\\lib\\site-packages\\numpy\\_distributor_init.py:30: UserWarning: loaded more than 1 DLL from .libs:\n",
      "c:\\Users\\16577\\anaconda3\\lib\\site-packages\\numpy\\.libs\\libopenblas.FB5AE2TYXYH2IJRDKGDGQ3XBKLKTF43H.gfortran-win_amd64.dll\n",
      "c:\\Users\\16577\\anaconda3\\lib\\site-packages\\numpy\\.libs\\libopenblas.WCDJNK7YVMPZQ2ME2ZZHJJRJ3JIKNDB7.gfortran-win_amd64.dll\n",
      "c:\\Users\\16577\\anaconda3\\lib\\site-packages\\numpy\\.libs\\libopenblas.XWYDX2IKJW2NMTWSFYNGFUWKQU3LYTCZ.gfortran-win_amd64.dll\n",
      "  warnings.warn(\"loaded more than 1 DLL from .libs:\"\n"
     ]
    }
   ],
   "source": [
    "import config\n",
    "import whisper\n",
    "import os, glob\n",
    "import os\n",
    "import speech_recognition as sr\n",
    "from pydub import AudioSegment"
   ]
  },
  {
   "cell_type": "code",
   "execution_count": 32,
   "metadata": {},
   "outputs": [
    {
     "name": "stdout",
     "output_type": "stream",
     "text": [
      "Exported C:\\p1\\dataaud\\split\\cs-phi_1.wav\n",
      "Exported C:\\p1\\dataaud\\split\\cs-phi_2.wav\n",
      "Exported C:\\p1\\dataaud\\split\\cs-phi_3.wav\n",
      "Exported C:\\p1\\dataaud\\split\\cs-phi_4.wav\n",
      "Exported C:\\p1\\dataaud\\split\\cs-phi_5.wav\n",
      "Exported C:\\p1\\dataaud\\split\\cs-phi_6.wav\n",
      "Exported C:\\p1\\dataaud\\split\\cs-phi_7.wav\n",
      "Exported C:\\p1\\dataaud\\split\\cs-phi_8.wav\n",
      "Exported C:\\p1\\dataaud\\split\\cs-phi_9.wav\n",
      "Exported C:\\p1\\dataaud\\split\\cs-phi_10.wav\n",
      "Exported C:\\p1\\dataaud\\split\\cs-phi_11.wav\n",
      "Splitting complete.\n"
     ]
    }
   ],
   "source": [
    "from pydub import AudioSegment\n",
    "import os\n",
    "\n",
    "def split_audio(input_file, output_folder, split_duration):\n",
    "    \n",
    "    audio = AudioSegment.from_file(input_file)\n",
    "    \n",
    "    \n",
    "    num_parts = len(audio) // split_duration\n",
    "    \n",
    "    \n",
    "    if not os.path.exists(output_folder):\n",
    "        os.makedirs(output_folder)\n",
    "    \n",
    "    \n",
    "    for i in range(num_parts):\n",
    "        start_time = i * split_duration\n",
    "        end_time = start_time + split_duration\n",
    "        part = audio[start_time:end_time]\n",
    "        \n",
    "        output_file = os.path.join(output_folder, f\"cs-phi_{i+1}.wav\")\n",
    "        part.export(output_file, format=\"wav\")\n",
    "        print(f\"Exported {output_file}\")\n",
    "    \n",
    "    print(\"Splitting complete.\")\n",
    "\n",
    "\n",
    "input_audio_file = r'C:\\p1\\dataaud\\cs-Philippines.wav'\n",
    "\n",
    "\n",
    "output_folder = r'C:\\p1\\dataaud\\split'\n",
    "\n",
    "\n",
    "split_duration = 10000  # \n",
    "\n",
    "split_audio(input_audio_file, output_folder, split_duration)"
   ]
  },
  {
   "cell_type": "code",
   "execution_count": 38,
   "metadata": {},
   "outputs": [
    {
     "name": "stdout",
     "output_type": "stream",
     "text": [
      "11\n"
     ]
    }
   ],
   "source": [
    "import os\n",
    "\n",
    "def count_items_in_folder(folder_path):\n",
    "    try:\n",
    "\n",
    "        # Get a list of all items (files and subfolders) in the specified folder\n",
    "        items = os.listdir(folder_path)\n",
    "        \n",
    "        # Count the number of items\n",
    "        num_items = len(items)\n",
    "\n",
    "        return num_items\n",
    "    except OSError as e:\n",
    "\n",
    "        print(f\"Error: {e}\")\n",
    "\n",
    "        return None"
   ]
  },
  {
   "cell_type": "code",
   "execution_count": 21,
   "metadata": {},
   "outputs": [
    {
     "name": "stderr",
     "output_type": "stream",
     "text": [
      "c:\\Users\\16577\\anaconda3\\lib\\site-packages\\numpy\\_distributor_init.py:30: UserWarning: loaded more than 1 DLL from .libs:\n",
      "c:\\Users\\16577\\anaconda3\\lib\\site-packages\\numpy\\.libs\\libopenblas.FB5AE2TYXYH2IJRDKGDGQ3XBKLKTF43H.gfortran-win_amd64.dll\n",
      "c:\\Users\\16577\\anaconda3\\lib\\site-packages\\numpy\\.libs\\libopenblas.WCDJNK7YVMPZQ2ME2ZZHJJRJ3JIKNDB7.gfortran-win_amd64.dll\n",
      "c:\\Users\\16577\\anaconda3\\lib\\site-packages\\numpy\\.libs\\libopenblas.XWYDX2IKJW2NMTWSFYNGFUWKQU3LYTCZ.gfortran-win_amd64.dll\n",
      "  warnings.warn(\"loaded more than 1 DLL from .libs:\"\n"
     ]
    }
   ],
   "source": [
    "from rake_nltk import Rake"
   ]
  },
  {
   "cell_type": "code",
   "execution_count": 22,
   "metadata": {},
   "outputs": [],
   "source": [
    "rake_nltk_var = Rake()"
   ]
  },
  {
   "cell_type": "code",
   "execution_count": 32,
   "metadata": {},
   "outputs": [],
   "source": [
    "import pandas as pd\n",
    "from sklearn.feature_extraction.text import CountVectorizer\n",
    "from sklearn.naive_bayes import MultinomialNB\n",
    "from sklearn.preprocessing import LabelEncoder"
   ]
  },
  {
   "cell_type": "code",
   "execution_count": 33,
   "metadata": {},
   "outputs": [
    {
     "name": "stdout",
     "output_type": "stream",
     "text": [
      "C:\\p1\\dataaud\\split\\cs-phi_1.wav\n",
      "['florist thomas sister', 'take care', 'order may', 'calling martha', 'think', 'thank', 'looking', 'happy']\n",
      "C:\\p1\\dataaud\\split\\cs-phi_2.wav\n",
      "['randall r', 'l l', 'brandon thomas', 'spell', 'n']\n",
      "C:\\p1\\dataaud\\split\\cs-phi_3.wav\n",
      "['office number area code first', 'information randall may', 'dhl thank', 'home']\n",
      "C:\\p1\\dataaud\\split\\cs-phi_4.wav\n",
      "['fax number', '409 8665088', '8665088']\n",
      "C:\\p1\\dataaud\\split\\cs-phi_5.wav\n",
      "['com randall dot thomas', 'com', 'gmail', 'gmail']\n",
      "C:\\p1\\dataaud\\split\\cs-phi_6.wav\n",
      "['shipping address', 'much']\n",
      "C:\\p1\\dataaud\\split\\cs-phi_7.wav\n",
      "['706 gladys avenue beaumont texas zip code 77706 thank', 'products', 'interested', 'information']\n",
      "C:\\p1\\dataaud\\split\\cs-phi_8.wav\n",
      "['want long stems', '1000 red roses', 'right let', 'process']\n",
      "C:\\p1\\dataaud\\split\\cs-phi_9.wav\n",
      "['total amount', 'red roses', 'order']\n",
      "C:\\p1\\dataaud\\split\\cs-phi_10.wav\n",
      "['bring 24 hours']\n"
     ]
    }
   ],
   "source": [
    "import os\n",
    "import numpy as np\n",
    "\n",
    "list_list = []\n",
    "\n",
    "def count_items_in_folder(folder_path):\n",
    "    try:\n",
    "        \n",
    "        items = os.listdir(folder_path)\n",
    "        \n",
    "        \n",
    "        num_items = len(items)\n",
    "        \n",
    "        return num_items\n",
    "    except OSError as e:\n",
    "        \n",
    "        return None\n",
    "\n",
    "\n",
    "\n",
    "def prepare_voice_file(path: str) -> str:\n",
    "    \"\"\"   Converts the input audio file to WAV format if necessary and returns the path to the WAV file   \"\"\"\n",
    "    if os.path.splitext(path)[1] == '.wav':\n",
    "        return path\n",
    "    elif os.path.splitext(path)[1] in ('.mp3', '.m4a', '.ogg', '.flac'):\n",
    "        audio_file = AudioSegment.from_file(\n",
    "            path, format=os.path.splitext(path)[1][1:])\n",
    "        wav_file = os.path.splitext(path)[0] + '.wav'\n",
    "        audio_file.export(wav_file, format='wav')\n",
    "        return wav_file\n",
    "    else:\n",
    "        raise ValueError(\n",
    "            f'Unsupported audio format: {format(os.path.splitext(path)[1])}')\n",
    "\n",
    "\n",
    "def transcribe_audio(audio_data, language) -> str:\n",
    "    \n",
    "    r = sr.Recognizer()\n",
    "    text = r.recognize_google(audio_data, language=language)\n",
    "    return text\n",
    "\n",
    "\n",
    "def write_transcription_to_file(text, output_file) -> None:\n",
    "    \n",
    "    with open(output_file, 'w') as f:\n",
    "        f.write(text)\n",
    "\n",
    "\n",
    "def speech_to_text(input_path: str, output_path: str, language: str) -> None:\n",
    "    \n",
    "    wav_file = prepare_voice_file(input_path)\n",
    "    with sr.AudioFile(wav_file) as source:\n",
    "        audio_data = sr.Recognizer().record(source)\n",
    "        text = transcribe_audio(audio_data, language)\n",
    "        write_transcription_to_file(text, output_path)\n",
    "        rake_nltk_var.extract_keywords_from_text(text)\n",
    "        keyword_extracted = rake_nltk_var.get_ranked_phrases()\n",
    "        list_list = list_list.append(keyword_extracted)\n",
    "        print(keyword_extracted)\n",
    "\n",
    "\n",
    "if __name__ == '__main__':\n",
    "    folder_path = r\"C:\\p1\\dataaud\\split\"\n",
    "    num_items = count_items_in_folder(folder_path)\n",
    "    \n",
    "    for i in range(num_items-1):\n",
    "        \n",
    "        file_path = f\"C:\\p1\\dataaud\\split\\cs-phi_{i+1}.wav\"\n",
    "        input_path = file_path.strip()\n",
    "        print(input_path)\n",
    "        \n",
    "\n",
    "        txt_path = r'C:\\p1\\dataaud\\split\\ed.txt'\n",
    "        output_path = txt_path.strip()\n",
    "        lan = \"en-US\"\n",
    "        language = lan.strip()\n",
    "        try:\n",
    "            speech_to_text(input_path, output_path, language)\n",
    "        except Exception as e:\n",
    "            print('sadaasdasdas', e)\n",
    "            exit(1)\n",
    "\n",
    "\n",
    "             "
   ]
  }
 ],
 "metadata": {
  "kernelspec": {
   "display_name": "asaassa",
   "language": "python",
   "name": "python3"
  },
  "language_info": {
   "codemirror_mode": {
    "name": "ipython",
    "version": 3
   },
   "file_extension": ".py",
   "mimetype": "text/x-python",
   "name": "python",
   "nbconvert_exporter": "python",
   "pygments_lexer": "ipython3",
   "version": "3.9.13"
  },
  "orig_nbformat": 4
 },
 "nbformat": 4,
 "nbformat_minor": 2
}
